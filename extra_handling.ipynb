{
 "cells": [
  {
   "cell_type": "code",
   "execution_count": 1,
   "id": "ea173241",
   "metadata": {},
   "outputs": [],
   "source": [
    "# import sys\n",
    "# print(sys.version)\n",
    "# print(sys.executable)"
   ]
  },
  {
   "cell_type": "code",
   "execution_count": 2,
   "id": "ab1b4b78-7052-4c6c-97d3-56f6cd244800",
   "metadata": {},
   "outputs": [],
   "source": [
    "# import os\n",
    "# os.getcwd()"
   ]
  },
  {
   "cell_type": "code",
   "execution_count": 3,
   "id": "4cc9ca64-8ca8-46af-b184-4cf437893022",
   "metadata": {},
   "outputs": [],
   "source": [
    "# import encode_seq\n",
    "# print(dir(encode_seq))"
   ]
  },
  {
   "cell_type": "markdown",
   "id": "fe70086e-bd3e-46a4-8acd-465c20edaa5e",
   "metadata": {},
   "source": [
    "* Creating Labels from scratch"
   ]
  },
  {
   "cell_type": "code",
   "execution_count": null,
   "id": "67e0eec1-de94-49c7-88a6-2961fe6fe702",
   "metadata": {},
   "outputs": [],
   "source": [
    "# with open('..\\\\data\\\\Biased1000NR\\\\melanogaster_labels.txt', 'w') as f:\n",
    "#    for _ in range(100):\n",
    "#        f.write('1\\n')\n",
    "#    for _ in range(900):\n",
    "#        f.write('0\\n')"
   ]
  },
  {
   "cell_type": "markdown",
   "id": "1f8064b6-270e-4b2a-bdc7-68706ec8255e",
   "metadata": {},
   "source": [
    "* Creating Non-redundant fasta files by NR genes name from main fasta file"
   ]
  },
  {
   "cell_type": "code",
   "execution_count": 26,
   "id": "55dbb5b5-1893-4f04-9f5e-7582ba82512b",
   "metadata": {},
   "outputs": [],
   "source": [
    "# from Bio import SeqIO\n",
    "# # Read the non-redundant gene IDs from the text file\n",
    "# with open('..\\\\data\\\\Raw\\\\D.melanogaster\\\\NEssential_NR_list.txt', 'r') as nr_file:\n",
    "#     nr_gene_ids = set(line.strip() for line in nr_file)\n",
    "\n",
    "# # Open the output file to write the non-redundant sequences\n",
    "# with open('..\\\\data\\\\Raw\\\\D.melanogaster\\\\NEssential_nucleotide_NR.fasta', 'w') as output_handle:\n",
    "#     # Iterate through the original FASTA file\n",
    "#     for record in SeqIO.parse('..\\\\data\\\\Raw\\\\D.melanogaster\\\\NEssential_nucleotide.fasta', 'fasta'):\n",
    "#         # Check if the record ID is in the non-redundant list\n",
    "#         if record.id in nr_gene_ids:\n",
    "#             # Write the record to the output file\n",
    "#             SeqIO.write(record, output_handle, 'fasta')"
   ]
  },
  {
   "cell_type": "markdown",
   "id": "b08a8e62",
   "metadata": {},
   "source": [
    "* Selecting random genes from main fasta file"
   ]
  },
  {
   "cell_type": "code",
   "execution_count": null,
   "id": "ee62e6f6",
   "metadata": {
    "scrolled": true
   },
   "outputs": [],
   "source": [
    "# from Bio import SeqIO\n",
    "# import random\n",
    "\n",
    "# fasta_file = \"..\\\\data\\\\Raw\\\\D.melanogaster\\\\Essential_nucleotide.fasta\"\n",
    "# output_file = \"..\\\\data\\\\Biased1000NR\\\\melanogaster_nessential_nucleotide_1000NR.fasta\"\n",
    "\n",
    "# # Read all sequences\n",
    "# records = list(SeqIO.parse(fasta_file, \"fasta\"))\n",
    "\n",
    "# # Randomly select records\n",
    "# selected_records = random.sample(records, 900)\n",
    "\n",
    "# # Write to output\n",
    "# SeqIO.write(selected_records, output_file, \"fasta\")"
   ]
  },
  {
   "cell_type": "markdown",
   "id": "c9d3b919",
   "metadata": {},
   "source": [
    "* Creating small datasets and related labels from original file"
   ]
  },
  {
   "cell_type": "code",
   "execution_count": 5,
   "id": "0df340df",
   "metadata": {},
   "outputs": [],
   "source": [
    "# from Bio import SeqIO\n",
    "# import random\n",
    "\n",
    "# # Input files\n",
    "# essential_fasta = \"..\\\\data\\\\Raw\\\\D.melanogaster\\\\Essential_nucleotide_NR.fasta\"\n",
    "# non_essential_fasta = \"..\\\\data\\\\Raw\\\\D.melanogaster\\\\NEssential_nucleotide_NR.fasta\"\n",
    "# # conditional_essential_fasta = \"..\\\\data\\\\Raw\\\\D.melanogaster\\\\CEssential_nucleotide_NR.fasta\"\n",
    "\n",
    "# # Output files\n",
    "# output_fasta = \"..\\\\data\\\\Biased400NR\\\\melanogaster_genes.fasta\"\n",
    "# output_label = \"..\\\\data\\\\Biased400NR\\\\melanogaster_labels.txt\"\n",
    "\n",
    "# # --- Step 1: Select essential genes ---\n",
    "# essential_records = list(SeqIO.parse(essential_fasta, \"fasta\"))\n",
    "# selected_essential = random.sample(essential_records, 80)\n",
    "\n",
    "# # # --- Step 2: Select conditional-essential genes ---\n",
    "# # conditional_essential_records = list(SeqIO.parse(conditional_essential_fasta, \"fasta\"))\n",
    "# # selected_conditional_essential = random.sample(conditional_essential_records, 40)\n",
    "\n",
    "# # --- Step 3: Select non-essential genes ---\n",
    "# non_essential_records = list(SeqIO.parse(non_essential_fasta, \"fasta\"))\n",
    "# selected_non_essential = random.sample(non_essential_records, 320)\n",
    "\n",
    "# # --- Step 4: Combine and write to FASTA ---\n",
    "# combined_records = selected_essential + selected_non_essential\n",
    "# # combined_records = selected_essential + selected_conditional_essential + selected_non_essential\n",
    "# SeqIO.write(combined_records, output_fasta, \"fasta\")\n",
    "\n",
    "# # --- Step 4: Generate label file ---\n",
    "# with open(output_label, \"w\") as f:\n",
    "#     f.write(\"\\n\".join([\"1\"] * 80 + [\"0\"] * 320))"
   ]
  }
 ],
 "metadata": {
  "kernelspec": {
   "display_name": "venv_gcnn-sfm",
   "language": "python",
   "name": "python3"
  },
  "language_info": {
   "codemirror_mode": {
    "name": "ipython",
    "version": 3
   },
   "file_extension": ".py",
   "mimetype": "text/x-python",
   "name": "python",
   "nbconvert_exporter": "python",
   "pygments_lexer": "ipython3",
   "version": "3.8.0"
  }
 },
 "nbformat": 4,
 "nbformat_minor": 5
}
